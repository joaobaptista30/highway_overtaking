{
 "cells": [
  {
   "cell_type": "markdown",
   "id": "d6a1cd49",
   "metadata": {},
   "source": [
    "# Results"
   ]
  },
  {
   "cell_type": "markdown",
   "id": "dfbb6775",
   "metadata": {},
   "source": [
    "## GUARDAR media e desvio padrao da distancia ao centro da faixa!\n",
    "\n",
    "grafico erro x tempo, por fase"
   ]
  },
  {
   "cell_type": "code",
   "execution_count": 2,
   "id": "80bdb328",
   "metadata": {},
   "outputs": [],
   "source": [
    "import pandas as pd"
   ]
  },
  {
   "cell_type": "code",
   "execution_count": 3,
   "id": "fc5e7121",
   "metadata": {},
   "outputs": [],
   "source": [
    "starting_distances = pd.read_csv('RESULTS/starting_distances.csv')"
   ]
  },
  {
   "cell_type": "code",
   "execution_count": 4,
   "id": "3c658552",
   "metadata": {},
   "outputs": [],
   "source": [
    "def move_last_column_first(df):\n",
    "    cols = df.columns.tolist()\n",
    "    return df[[cols[-1]] + cols[:-1]]"
   ]
  },
  {
   "cell_type": "markdown",
   "id": "f1ea78e2",
   "metadata": {},
   "source": [
    "# "
   ]
  },
  {
   "cell_type": "markdown",
   "id": "4b103157",
   "metadata": {},
   "source": [
    "# 1. Baseline Approach\n",
    "\n",
    "Using a LiDAR and a PID, with hardcoded maneuver steps!"
   ]
  },
  {
   "cell_type": "markdown",
   "id": "52f69420",
   "metadata": {},
   "source": [
    "## "
   ]
  },
  {
   "cell_type": "markdown",
   "id": "e3a312e7",
   "metadata": {},
   "source": [
    "## 1.1 Optimal Conditions\n",
    "\n",
    "Front car with constant speed, and Lidar with no noise."
   ]
  },
  {
   "cell_type": "code",
   "execution_count": 5,
   "id": "c6a42cee",
   "metadata": {},
   "outputs": [],
   "source": [
    "rulebased_baseline = pd.read_csv('RESULTS/results_rulebased_baseline.csv')\n",
    "rulebased_baseline[\"Starting Distance\"] = starting_distances[\"Starting Distance\"]\n",
    "rulebased_baseline = move_last_column_first(rulebased_baseline)"
   ]
  },
  {
   "cell_type": "code",
   "execution_count": 6,
   "id": "824d989c",
   "metadata": {},
   "outputs": [
    {
     "data": {
      "text/html": [
       "<div>\n",
       "<style scoped>\n",
       "    .dataframe tbody tr th:only-of-type {\n",
       "        vertical-align: middle;\n",
       "    }\n",
       "\n",
       "    .dataframe tbody tr th {\n",
       "        vertical-align: top;\n",
       "    }\n",
       "\n",
       "    .dataframe thead th {\n",
       "        text-align: right;\n",
       "    }\n",
       "</style>\n",
       "<table border=\"1\" class=\"dataframe\">\n",
       "  <thead>\n",
       "    <tr style=\"text-align: right;\">\n",
       "      <th></th>\n",
       "      <th>Starting Distance</th>\n",
       "      <th>Success</th>\n",
       "      <th>Maneuver Time</th>\n",
       "      <th>Minimum Distance</th>\n",
       "      <th>Maneuver Start Distance</th>\n",
       "      <th>Maneuver Start Velocity</th>\n",
       "    </tr>\n",
       "  </thead>\n",
       "  <tbody>\n",
       "    <tr>\n",
       "      <th>0</th>\n",
       "      <td>7.5818</td>\n",
       "      <td>True</td>\n",
       "      <td>9.408</td>\n",
       "      <td>1.612989</td>\n",
       "      <td>1.910616</td>\n",
       "      <td>0.165235</td>\n",
       "    </tr>\n",
       "    <tr>\n",
       "      <th>1</th>\n",
       "      <td>7.5818</td>\n",
       "      <td>True</td>\n",
       "      <td>9.376</td>\n",
       "      <td>1.539689</td>\n",
       "      <td>1.907987</td>\n",
       "      <td>0.399931</td>\n",
       "    </tr>\n",
       "    <tr>\n",
       "      <th>2</th>\n",
       "      <td>7.5818</td>\n",
       "      <td>True</td>\n",
       "      <td>9.376</td>\n",
       "      <td>1.539689</td>\n",
       "      <td>1.907987</td>\n",
       "      <td>0.399931</td>\n",
       "    </tr>\n",
       "    <tr>\n",
       "      <th>3</th>\n",
       "      <td>7.5818</td>\n",
       "      <td>True</td>\n",
       "      <td>9.376</td>\n",
       "      <td>1.539689</td>\n",
       "      <td>1.907987</td>\n",
       "      <td>0.399931</td>\n",
       "    </tr>\n",
       "    <tr>\n",
       "      <th>4</th>\n",
       "      <td>7.5818</td>\n",
       "      <td>True</td>\n",
       "      <td>9.376</td>\n",
       "      <td>1.539689</td>\n",
       "      <td>1.907987</td>\n",
       "      <td>0.399931</td>\n",
       "    </tr>\n",
       "    <tr>\n",
       "      <th>...</th>\n",
       "      <td>...</td>\n",
       "      <td>...</td>\n",
       "      <td>...</td>\n",
       "      <td>...</td>\n",
       "      <td>...</td>\n",
       "      <td>...</td>\n",
       "    </tr>\n",
       "    <tr>\n",
       "      <th>95</th>\n",
       "      <td>57.2994</td>\n",
       "      <td>True</td>\n",
       "      <td>8.000</td>\n",
       "      <td>2.262663</td>\n",
       "      <td>6.996285</td>\n",
       "      <td>16.662397</td>\n",
       "    </tr>\n",
       "    <tr>\n",
       "      <th>96</th>\n",
       "      <td>57.2994</td>\n",
       "      <td>True</td>\n",
       "      <td>8.000</td>\n",
       "      <td>2.262663</td>\n",
       "      <td>6.996285</td>\n",
       "      <td>16.662397</td>\n",
       "    </tr>\n",
       "    <tr>\n",
       "      <th>97</th>\n",
       "      <td>57.2994</td>\n",
       "      <td>True</td>\n",
       "      <td>8.000</td>\n",
       "      <td>2.262663</td>\n",
       "      <td>6.996285</td>\n",
       "      <td>16.662397</td>\n",
       "    </tr>\n",
       "    <tr>\n",
       "      <th>98</th>\n",
       "      <td>57.2994</td>\n",
       "      <td>True</td>\n",
       "      <td>8.000</td>\n",
       "      <td>2.262663</td>\n",
       "      <td>6.996285</td>\n",
       "      <td>16.662397</td>\n",
       "    </tr>\n",
       "    <tr>\n",
       "      <th>99</th>\n",
       "      <td>57.2994</td>\n",
       "      <td>True</td>\n",
       "      <td>8.000</td>\n",
       "      <td>2.262663</td>\n",
       "      <td>6.996285</td>\n",
       "      <td>16.662397</td>\n",
       "    </tr>\n",
       "  </tbody>\n",
       "</table>\n",
       "<p>100 rows × 6 columns</p>\n",
       "</div>"
      ],
      "text/plain": [
       "    Starting Distance  Success  Maneuver Time  Minimum Distance  \\\n",
       "0              7.5818     True          9.408          1.612989   \n",
       "1              7.5818     True          9.376          1.539689   \n",
       "2              7.5818     True          9.376          1.539689   \n",
       "3              7.5818     True          9.376          1.539689   \n",
       "4              7.5818     True          9.376          1.539689   \n",
       "..                ...      ...            ...               ...   \n",
       "95            57.2994     True          8.000          2.262663   \n",
       "96            57.2994     True          8.000          2.262663   \n",
       "97            57.2994     True          8.000          2.262663   \n",
       "98            57.2994     True          8.000          2.262663   \n",
       "99            57.2994     True          8.000          2.262663   \n",
       "\n",
       "    Maneuver Start Distance  Maneuver Start Velocity  \n",
       "0                  1.910616                 0.165235  \n",
       "1                  1.907987                 0.399931  \n",
       "2                  1.907987                 0.399931  \n",
       "3                  1.907987                 0.399931  \n",
       "4                  1.907987                 0.399931  \n",
       "..                      ...                      ...  \n",
       "95                 6.996285                16.662397  \n",
       "96                 6.996285                16.662397  \n",
       "97                 6.996285                16.662397  \n",
       "98                 6.996285                16.662397  \n",
       "99                 6.996285                16.662397  \n",
       "\n",
       "[100 rows x 6 columns]"
      ]
     },
     "execution_count": 6,
     "metadata": {},
     "output_type": "execute_result"
    }
   ],
   "source": [
    "rulebased_baseline"
   ]
  },
  {
   "cell_type": "code",
   "execution_count": 7,
   "id": "cd109c26",
   "metadata": {},
   "outputs": [
    {
     "data": {
      "text/plain": [
       "False"
      ]
     },
     "execution_count": 7,
     "metadata": {},
     "output_type": "execute_result"
    }
   ],
   "source": [
    "#check if there are any missed overtakes\n",
    "(rulebased_baseline['Success'] == False).any()"
   ]
  },
  {
   "cell_type": "markdown",
   "id": "b3b157db",
   "metadata": {},
   "source": [
    "## "
   ]
  },
  {
   "cell_type": "markdown",
   "id": "fb048ea6",
   "metadata": {},
   "source": [
    "## 1.2 Sub-Optimal Conditions\n",
    "\n",
    "Front car with constant speed but random braking (at full force), and Lidar with a bit of noise (between 0 and 0.5 meters)."
   ]
  },
  {
   "cell_type": "code",
   "execution_count": 8,
   "id": "453304bd",
   "metadata": {},
   "outputs": [],
   "source": [
    "rulebased_nonoptimal1 = pd.read_csv('RESULTS/results_rulebased_nonoptimal1.csv')\n",
    "rulebased_nonoptimal1[\"Starting Distance\"] = starting_distances[\"Starting Distance\"]\n",
    "rulebased_nonoptimal1 = move_last_column_first(rulebased_nonoptimal1)"
   ]
  },
  {
   "cell_type": "code",
   "execution_count": 15,
   "id": "e6c35a30",
   "metadata": {},
   "outputs": [
    {
     "data": {
      "text/html": [
       "<div>\n",
       "<style scoped>\n",
       "    .dataframe tbody tr th:only-of-type {\n",
       "        vertical-align: middle;\n",
       "    }\n",
       "\n",
       "    .dataframe tbody tr th {\n",
       "        vertical-align: top;\n",
       "    }\n",
       "\n",
       "    .dataframe thead th {\n",
       "        text-align: right;\n",
       "    }\n",
       "</style>\n",
       "<table border=\"1\" class=\"dataframe\">\n",
       "  <thead>\n",
       "    <tr style=\"text-align: right;\">\n",
       "      <th></th>\n",
       "      <th>Starting Distance</th>\n",
       "      <th>Success</th>\n",
       "      <th>Maneuver Time</th>\n",
       "      <th>Minimum Distance</th>\n",
       "      <th>Maneuver Start Distance</th>\n",
       "      <th>Maneuver Start Velocity</th>\n",
       "    </tr>\n",
       "  </thead>\n",
       "  <tbody>\n",
       "    <tr>\n",
       "      <th>0</th>\n",
       "      <td>7.5818</td>\n",
       "      <td>True</td>\n",
       "      <td>9.408</td>\n",
       "      <td>1.574120</td>\n",
       "      <td>1.934625</td>\n",
       "      <td>0.165235</td>\n",
       "    </tr>\n",
       "    <tr>\n",
       "      <th>1</th>\n",
       "      <td>7.5818</td>\n",
       "      <td>True</td>\n",
       "      <td>9.376</td>\n",
       "      <td>1.535921</td>\n",
       "      <td>1.966290</td>\n",
       "      <td>0.399946</td>\n",
       "    </tr>\n",
       "    <tr>\n",
       "      <th>2</th>\n",
       "      <td>7.5818</td>\n",
       "      <td>True</td>\n",
       "      <td>9.376</td>\n",
       "      <td>1.561836</td>\n",
       "      <td>1.972847</td>\n",
       "      <td>0.399946</td>\n",
       "    </tr>\n",
       "    <tr>\n",
       "      <th>3</th>\n",
       "      <td>7.5818</td>\n",
       "      <td>True</td>\n",
       "      <td>9.376</td>\n",
       "      <td>1.561686</td>\n",
       "      <td>1.946859</td>\n",
       "      <td>0.399946</td>\n",
       "    </tr>\n",
       "    <tr>\n",
       "      <th>4</th>\n",
       "      <td>7.5818</td>\n",
       "      <td>True</td>\n",
       "      <td>9.376</td>\n",
       "      <td>1.547666</td>\n",
       "      <td>1.869951</td>\n",
       "      <td>0.399946</td>\n",
       "    </tr>\n",
       "    <tr>\n",
       "      <th>...</th>\n",
       "      <td>...</td>\n",
       "      <td>...</td>\n",
       "      <td>...</td>\n",
       "      <td>...</td>\n",
       "      <td>...</td>\n",
       "      <td>...</td>\n",
       "    </tr>\n",
       "    <tr>\n",
       "      <th>95</th>\n",
       "      <td>57.2994</td>\n",
       "      <td>True</td>\n",
       "      <td>8.000</td>\n",
       "      <td>2.572697</td>\n",
       "      <td>6.993899</td>\n",
       "      <td>13.885331</td>\n",
       "    </tr>\n",
       "    <tr>\n",
       "      <th>96</th>\n",
       "      <td>57.2994</td>\n",
       "      <td>True</td>\n",
       "      <td>8.000</td>\n",
       "      <td>2.537062</td>\n",
       "      <td>6.987156</td>\n",
       "      <td>13.885331</td>\n",
       "    </tr>\n",
       "    <tr>\n",
       "      <th>97</th>\n",
       "      <td>57.2994</td>\n",
       "      <td>True</td>\n",
       "      <td>8.000</td>\n",
       "      <td>2.530943</td>\n",
       "      <td>6.986064</td>\n",
       "      <td>13.885331</td>\n",
       "    </tr>\n",
       "    <tr>\n",
       "      <th>98</th>\n",
       "      <td>57.2994</td>\n",
       "      <td>True</td>\n",
       "      <td>8.000</td>\n",
       "      <td>2.515731</td>\n",
       "      <td>6.958163</td>\n",
       "      <td>13.885331</td>\n",
       "    </tr>\n",
       "    <tr>\n",
       "      <th>99</th>\n",
       "      <td>57.2994</td>\n",
       "      <td>True</td>\n",
       "      <td>8.000</td>\n",
       "      <td>2.532146</td>\n",
       "      <td>6.978776</td>\n",
       "      <td>13.885331</td>\n",
       "    </tr>\n",
       "  </tbody>\n",
       "</table>\n",
       "<p>100 rows × 6 columns</p>\n",
       "</div>"
      ],
      "text/plain": [
       "    Starting Distance  Success  Maneuver Time  Minimum Distance  \\\n",
       "0              7.5818     True          9.408          1.574120   \n",
       "1              7.5818     True          9.376          1.535921   \n",
       "2              7.5818     True          9.376          1.561836   \n",
       "3              7.5818     True          9.376          1.561686   \n",
       "4              7.5818     True          9.376          1.547666   \n",
       "..                ...      ...            ...               ...   \n",
       "95            57.2994     True          8.000          2.572697   \n",
       "96            57.2994     True          8.000          2.537062   \n",
       "97            57.2994     True          8.000          2.530943   \n",
       "98            57.2994     True          8.000          2.515731   \n",
       "99            57.2994     True          8.000          2.532146   \n",
       "\n",
       "    Maneuver Start Distance  Maneuver Start Velocity  \n",
       "0                  1.934625                 0.165235  \n",
       "1                  1.966290                 0.399946  \n",
       "2                  1.972847                 0.399946  \n",
       "3                  1.946859                 0.399946  \n",
       "4                  1.869951                 0.399946  \n",
       "..                      ...                      ...  \n",
       "95                 6.993899                13.885331  \n",
       "96                 6.987156                13.885331  \n",
       "97                 6.986064                13.885331  \n",
       "98                 6.958163                13.885331  \n",
       "99                 6.978776                13.885331  \n",
       "\n",
       "[100 rows x 6 columns]"
      ]
     },
     "execution_count": 15,
     "metadata": {},
     "output_type": "execute_result"
    }
   ],
   "source": [
    "rulebased_nonoptimal1"
   ]
  },
  {
   "cell_type": "code",
   "execution_count": 10,
   "id": "bf2c964a",
   "metadata": {},
   "outputs": [
    {
     "data": {
      "text/plain": [
       "False"
      ]
     },
     "execution_count": 10,
     "metadata": {},
     "output_type": "execute_result"
    }
   ],
   "source": [
    "#check if there are any missed overtakes\n",
    "(rulebased_nonoptimal1['Success'] == False).any()"
   ]
  },
  {
   "cell_type": "markdown",
   "id": "8be86f2d",
   "metadata": {},
   "source": [
    "# "
   ]
  },
  {
   "cell_type": "markdown",
   "id": "5b7f52e5",
   "metadata": {},
   "source": [
    "## 1.3 Non-Optimal Conditions\n",
    "\n",
    "Front car with constant speed but random braking (at full force), and Lidar with a bit of noise (between 5 and 10 meters)."
   ]
  },
  {
   "cell_type": "code",
   "execution_count": 11,
   "id": "47d00a19",
   "metadata": {},
   "outputs": [],
   "source": [
    "rulebased_nonoptimal2 = pd.read_csv('RESULTS/results_rulebased_nonoptimal2.csv')\n",
    "rulebased_nonoptimal2[\"Starting Distance\"] = starting_distances[\"Starting Distance\"]\n",
    "rulebased_nonoptimal2 = move_last_column_first(rulebased_nonoptimal2)"
   ]
  },
  {
   "cell_type": "code",
   "execution_count": 12,
   "id": "7ac702ac",
   "metadata": {},
   "outputs": [
    {
     "data": {
      "text/html": [
       "<div>\n",
       "<style scoped>\n",
       "    .dataframe tbody tr th:only-of-type {\n",
       "        vertical-align: middle;\n",
       "    }\n",
       "\n",
       "    .dataframe tbody tr th {\n",
       "        vertical-align: top;\n",
       "    }\n",
       "\n",
       "    .dataframe thead th {\n",
       "        text-align: right;\n",
       "    }\n",
       "</style>\n",
       "<table border=\"1\" class=\"dataframe\">\n",
       "  <thead>\n",
       "    <tr style=\"text-align: right;\">\n",
       "      <th></th>\n",
       "      <th>Starting Distance</th>\n",
       "      <th>Success</th>\n",
       "      <th>Maneuver Time</th>\n",
       "      <th>Minimum Distance</th>\n",
       "      <th>Maneuver Start Distance</th>\n",
       "      <th>Maneuver Start Velocity</th>\n",
       "    </tr>\n",
       "  </thead>\n",
       "  <tbody>\n",
       "    <tr>\n",
       "      <th>0</th>\n",
       "      <td>7.5818</td>\n",
       "      <td>True</td>\n",
       "      <td>9.216</td>\n",
       "      <td>1.684547</td>\n",
       "      <td>1.897570</td>\n",
       "      <td>0.418532</td>\n",
       "    </tr>\n",
       "    <tr>\n",
       "      <th>1</th>\n",
       "      <td>7.5818</td>\n",
       "      <td>True</td>\n",
       "      <td>9.344</td>\n",
       "      <td>1.687041</td>\n",
       "      <td>1.906733</td>\n",
       "      <td>0.300045</td>\n",
       "    </tr>\n",
       "    <tr>\n",
       "      <th>2</th>\n",
       "      <td>7.5818</td>\n",
       "      <td>True</td>\n",
       "      <td>9.280</td>\n",
       "      <td>1.686619</td>\n",
       "      <td>1.902247</td>\n",
       "      <td>0.384958</td>\n",
       "    </tr>\n",
       "    <tr>\n",
       "      <th>3</th>\n",
       "      <td>7.5818</td>\n",
       "      <td>True</td>\n",
       "      <td>9.280</td>\n",
       "      <td>1.700716</td>\n",
       "      <td>1.902246</td>\n",
       "      <td>0.384957</td>\n",
       "    </tr>\n",
       "    <tr>\n",
       "      <th>4</th>\n",
       "      <td>7.5818</td>\n",
       "      <td>True</td>\n",
       "      <td>9.280</td>\n",
       "      <td>1.685798</td>\n",
       "      <td>1.906362</td>\n",
       "      <td>0.281309</td>\n",
       "    </tr>\n",
       "    <tr>\n",
       "      <th>...</th>\n",
       "      <td>...</td>\n",
       "      <td>...</td>\n",
       "      <td>...</td>\n",
       "      <td>...</td>\n",
       "      <td>...</td>\n",
       "      <td>...</td>\n",
       "    </tr>\n",
       "    <tr>\n",
       "      <th>95</th>\n",
       "      <td>57.2994</td>\n",
       "      <td>True</td>\n",
       "      <td>8.000</td>\n",
       "      <td>4.352008</td>\n",
       "      <td>4.657017</td>\n",
       "      <td>13.885331</td>\n",
       "    </tr>\n",
       "    <tr>\n",
       "      <th>96</th>\n",
       "      <td>57.2994</td>\n",
       "      <td>True</td>\n",
       "      <td>8.000</td>\n",
       "      <td>2.220017</td>\n",
       "      <td>2.559477</td>\n",
       "      <td>13.885331</td>\n",
       "    </tr>\n",
       "    <tr>\n",
       "      <th>97</th>\n",
       "      <td>57.2994</td>\n",
       "      <td>True</td>\n",
       "      <td>8.000</td>\n",
       "      <td>3.614373</td>\n",
       "      <td>3.954426</td>\n",
       "      <td>13.885331</td>\n",
       "    </tr>\n",
       "    <tr>\n",
       "      <th>98</th>\n",
       "      <td>57.2994</td>\n",
       "      <td>True</td>\n",
       "      <td>8.000</td>\n",
       "      <td>3.728275</td>\n",
       "      <td>4.080776</td>\n",
       "      <td>13.885331</td>\n",
       "    </tr>\n",
       "    <tr>\n",
       "      <th>99</th>\n",
       "      <td>57.2994</td>\n",
       "      <td>True</td>\n",
       "      <td>8.000</td>\n",
       "      <td>4.756393</td>\n",
       "      <td>6.136818</td>\n",
       "      <td>13.885331</td>\n",
       "    </tr>\n",
       "  </tbody>\n",
       "</table>\n",
       "<p>100 rows × 6 columns</p>\n",
       "</div>"
      ],
      "text/plain": [
       "    Starting Distance  Success  Maneuver Time  Minimum Distance  \\\n",
       "0              7.5818     True          9.216          1.684547   \n",
       "1              7.5818     True          9.344          1.687041   \n",
       "2              7.5818     True          9.280          1.686619   \n",
       "3              7.5818     True          9.280          1.700716   \n",
       "4              7.5818     True          9.280          1.685798   \n",
       "..                ...      ...            ...               ...   \n",
       "95            57.2994     True          8.000          4.352008   \n",
       "96            57.2994     True          8.000          2.220017   \n",
       "97            57.2994     True          8.000          3.614373   \n",
       "98            57.2994     True          8.000          3.728275   \n",
       "99            57.2994     True          8.000          4.756393   \n",
       "\n",
       "    Maneuver Start Distance  Maneuver Start Velocity  \n",
       "0                  1.897570                 0.418532  \n",
       "1                  1.906733                 0.300045  \n",
       "2                  1.902247                 0.384958  \n",
       "3                  1.902246                 0.384957  \n",
       "4                  1.906362                 0.281309  \n",
       "..                      ...                      ...  \n",
       "95                 4.657017                13.885331  \n",
       "96                 2.559477                13.885331  \n",
       "97                 3.954426                13.885331  \n",
       "98                 4.080776                13.885331  \n",
       "99                 6.136818                13.885331  \n",
       "\n",
       "[100 rows x 6 columns]"
      ]
     },
     "execution_count": 12,
     "metadata": {},
     "output_type": "execute_result"
    }
   ],
   "source": [
    "rulebased_nonoptimal2"
   ]
  },
  {
   "cell_type": "code",
   "execution_count": 13,
   "id": "ac09e038",
   "metadata": {},
   "outputs": [
    {
     "data": {
      "text/plain": [
       "False"
      ]
     },
     "execution_count": 13,
     "metadata": {},
     "output_type": "execute_result"
    }
   ],
   "source": [
    "#check if there are any missed overtakes\n",
    "(rulebased_nonoptimal2['Success'] == False).any()"
   ]
  },
  {
   "cell_type": "markdown",
   "id": "8f04d96d",
   "metadata": {},
   "source": [
    "# "
   ]
  },
  {
   "cell_type": "markdown",
   "id": "37de01b6",
   "metadata": {},
   "source": [
    "# 2. Reinforcement Learning Approach\n",
    "\n",
    "Using a RL model."
   ]
  },
  {
   "cell_type": "markdown",
   "id": "d01a2112",
   "metadata": {},
   "source": [
    "## "
   ]
  },
  {
   "cell_type": "markdown",
   "id": "f0f45ea7",
   "metadata": {},
   "source": [
    "## 2.1 Optimal Conditions\n",
    "\n",
    "Front car with constant speed, and Lidar with no noise."
   ]
  },
  {
   "cell_type": "code",
   "execution_count": null,
   "id": "9040903e",
   "metadata": {},
   "outputs": [],
   "source": []
  },
  {
   "cell_type": "code",
   "execution_count": null,
   "id": "329365dd",
   "metadata": {},
   "outputs": [],
   "source": []
  },
  {
   "cell_type": "markdown",
   "id": "924a4797",
   "metadata": {},
   "source": [
    "## "
   ]
  },
  {
   "cell_type": "markdown",
   "id": "d8e183ce",
   "metadata": {},
   "source": [
    "## 2.2 Sub-Optimal Conditions\n",
    "\n",
    "Front car with constant speed but random braking (at full force), and Lidar with a bit of noise (between 0 and 0.5 meters)."
   ]
  },
  {
   "cell_type": "code",
   "execution_count": null,
   "id": "01e974f8",
   "metadata": {},
   "outputs": [],
   "source": []
  },
  {
   "cell_type": "code",
   "execution_count": null,
   "id": "21323cdf",
   "metadata": {},
   "outputs": [],
   "source": []
  },
  {
   "cell_type": "markdown",
   "id": "ad687bd6",
   "metadata": {},
   "source": [
    "## "
   ]
  },
  {
   "cell_type": "markdown",
   "id": "74891cc1",
   "metadata": {},
   "source": [
    "## 2.3 Non-Optimal Conditions\n",
    "\n",
    "Front car with constant speed but random braking (at full force), and Lidar with a bit of noise (between 5 and 10 meters)."
   ]
  }
 ],
 "metadata": {
  "kernelspec": {
   "display_name": "Python 3 (ipykernel)",
   "language": "python",
   "name": "python3"
  },
  "language_info": {
   "codemirror_mode": {
    "name": "ipython",
    "version": 3
   },
   "file_extension": ".py",
   "mimetype": "text/x-python",
   "name": "python",
   "nbconvert_exporter": "python",
   "pygments_lexer": "ipython3",
   "version": "3.10.12"
  }
 },
 "nbformat": 4,
 "nbformat_minor": 5
}
